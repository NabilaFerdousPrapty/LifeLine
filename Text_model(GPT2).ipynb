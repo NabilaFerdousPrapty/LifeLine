{
 "cells": [
  {
   "cell_type": "markdown",
   "metadata": {
    "id": "RXDHfHPh68k6"
   },
   "source": [
    "TEXT"
   ]
  },
  {
   "cell_type": "markdown",
   "metadata": {
    "id": "Jt83anLYOC4p"
   },
   "source": [
    "Install Libraries"
   ]
  },
  {
   "cell_type": "code",
   "execution_count": 17,
   "metadata": {
    "colab": {
     "base_uri": "https://localhost:8080/"
    },
    "id": "b7eKaKoa67rQ",
    "outputId": "a2d8f287-7f95-48dd-bde4-59df27c8cfa7"
   },
   "outputs": [],
   "source": [
    "# Install transformers library.\n",
    "!pip install -q git+https://github.com/huggingface/transformers.git\n",
    "# Install helper functions.\n",
    "!pip install -q git+https://github.com/gmihaila/ml_things.git"
   ]
  },
  {
   "cell_type": "code",
   "execution_count": 18,
   "metadata": {
    "colab": {
     "base_uri": "https://localhost:8080/",
     "height": 609
    },
    "id": "dqFLBQCmEcmD",
    "outputId": "2711c22e-0b63-4c0a-a46d-d9add640d1b6"
   },
   "outputs": [
    {
     "name": "stdout",
     "output_type": "stream",
     "text": [
      "Files removed: 16 (3.5 MB)\n",
      "Requirement already satisfied: pip in d:\\anaconda\\lib\\site-packages (25.1)\n",
      "Collecting pip\n",
      "  Downloading pip-25.3-py3-none-any.whl.metadata (4.7 kB)\n",
      "Requirement already satisfied: setuptools in d:\\anaconda\\lib\\site-packages (72.1.0)\n",
      "Collecting setuptools\n",
      "  Downloading setuptools-80.9.0-py3-none-any.whl.metadata (6.6 kB)\n",
      "Requirement already satisfied: wheel in d:\\anaconda\\lib\\site-packages (0.45.1)\n",
      "Downloading pip-25.3-py3-none-any.whl (1.8 MB)\n",
      "   ---------------------------------------- 0.0/1.8 MB ? eta -:--:--\n",
      "   ---------------------------------------- 0.0/1.8 MB ? eta -:--:--\n",
      "   ----- ---------------------------------- 0.3/1.8 MB ? eta -:--:--\n",
      "   ----- ---------------------------------- 0.3/1.8 MB ? eta -:--:--\n",
      "   ----- ---------------------------------- 0.3/1.8 MB ? eta -:--:--\n",
      "   ----- ---------------------------------- 0.3/1.8 MB ? eta -:--:--\n",
      "   ----- ---------------------------------- 0.3/1.8 MB ? eta -:--:--\n",
      "   ----- ---------------------------------- 0.3/1.8 MB ? eta -:--:--\n",
      "   ----- ---------------------------------- 0.3/1.8 MB ? eta -:--:--\n",
      "   ----- ---------------------------------- 0.3/1.8 MB ? eta -:--:--\n",
      "   ----- ---------------------------------- 0.3/1.8 MB ? eta -:--:--\n",
      "   ----- ---------------------------------- 0.3/1.8 MB ? eta -:--:--\n",
      "   ----- ---------------------------------- 0.3/1.8 MB ? eta -:--:--\n",
      "   ----------- ---------------------------- 0.5/1.8 MB 115.8 kB/s eta 0:00:11\n",
      "   ----------- ---------------------------- 0.5/1.8 MB 115.8 kB/s eta 0:00:11\n",
      "   ----------- ---------------------------- 0.5/1.8 MB 115.8 kB/s eta 0:00:11\n",
      "   ----------------- ---------------------- 0.8/1.8 MB 170.0 kB/s eta 0:00:06\n",
      "   ----------------- ---------------------- 0.8/1.8 MB 170.0 kB/s eta 0:00:06\n",
      "   ----------------- ---------------------- 0.8/1.8 MB 170.0 kB/s eta 0:00:06\n",
      "   ----------------- ---------------------- 0.8/1.8 MB 170.0 kB/s eta 0:00:06\n",
      "   ----------------------- ---------------- 1.0/1.8 MB 204.4 kB/s eta 0:00:04\n",
      "   ----------------------- ---------------- 1.0/1.8 MB 204.4 kB/s eta 0:00:04\n",
      "   ----------------------- ---------------- 1.0/1.8 MB 204.4 kB/s eta 0:00:04\n",
      "   ----------------------- ---------------- 1.0/1.8 MB 204.4 kB/s eta 0:00:04\n",
      "   ----------------------- ---------------- 1.0/1.8 MB 204.4 kB/s eta 0:00:04\n",
      "   ----------------------- ---------------- 1.0/1.8 MB 204.4 kB/s eta 0:00:04\n",
      "   ----------------------- ---------------- 1.0/1.8 MB 204.4 kB/s eta 0:00:04\n",
      "   ----------------------- ---------------- 1.0/1.8 MB 204.4 kB/s eta 0:00:04\n",
      "   ----------------------- ---------------- 1.0/1.8 MB 204.4 kB/s eta 0:00:04\n",
      "   ----------------------- ---------------- 1.0/1.8 MB 204.4 kB/s eta 0:00:04\n",
      "   ----------------------- ---------------- 1.0/1.8 MB 204.4 kB/s eta 0:00:04\n",
      "   ----------------------- ---------------- 1.0/1.8 MB 204.4 kB/s eta 0:00:04\n",
      "   ----------------------- ---------------- 1.0/1.8 MB 204.4 kB/s eta 0:00:04\n",
      "   ----------------------- ---------------- 1.0/1.8 MB 204.4 kB/s eta 0:00:04\n",
      "   ----------------------- ---------------- 1.0/1.8 MB 204.4 kB/s eta 0:00:04\n",
      "   ----------------------------- ---------- 1.3/1.8 MB 147.9 kB/s eta 0:00:04\n",
      "   ----------------------------- ---------- 1.3/1.8 MB 147.9 kB/s eta 0:00:04\n",
      "   ----------------------------- ---------- 1.3/1.8 MB 147.9 kB/s eta 0:00:04\n",
      "   ----------------------------- ---------- 1.3/1.8 MB 147.9 kB/s eta 0:00:04\n",
      "   ----------------------------- ---------- 1.3/1.8 MB 147.9 kB/s eta 0:00:04\n",
      "   ----------------------------- ---------- 1.3/1.8 MB 147.9 kB/s eta 0:00:04\n",
      "   ----------------------------- ---------- 1.3/1.8 MB 147.9 kB/s eta 0:00:04\n",
      "   ----------------------------- ---------- 1.3/1.8 MB 147.9 kB/s eta 0:00:04\n",
      "   ----------------------------------- ---- 1.6/1.8 MB 149.4 kB/s eta 0:00:02\n",
      "   ----------------------------------- ---- 1.6/1.8 MB 149.4 kB/s eta 0:00:02\n",
      "   ----------------------------------- ---- 1.6/1.8 MB 149.4 kB/s eta 0:00:02\n",
      "   ----------------------------------- ---- 1.6/1.8 MB 149.4 kB/s eta 0:00:02\n",
      "   ----------------------------------- ---- 1.6/1.8 MB 149.4 kB/s eta 0:00:02\n",
      "   ----------------------------------- ---- 1.6/1.8 MB 149.4 kB/s eta 0:00:02\n",
      "   ----------------------------------- ---- 1.6/1.8 MB 149.4 kB/s eta 0:00:02\n",
      "   ----------------------------------- ---- 1.6/1.8 MB 149.4 kB/s eta 0:00:02\n",
      "   ----------------------------------- ---- 1.6/1.8 MB 149.4 kB/s eta 0:00:02\n",
      "   ----------------------------------- ---- 1.6/1.8 MB 149.4 kB/s eta 0:00:02\n",
      "   ----------------------------------- ---- 1.6/1.8 MB 149.4 kB/s eta 0:00:02\n",
      "   ---------------------------------------- 1.8/1.8 MB 137.7 kB/s eta 0:00:00\n",
      "Downloading setuptools-80.9.0-py3-none-any.whl (1.2 MB)\n",
      "   ---------------------------------------- 0.0/1.2 MB ? eta -:--:--\n",
      "   ---------------------------------------- 0.0/1.2 MB ? eta -:--:--\n",
      "   ---------------------------------------- 0.0/1.2 MB ? eta -:--:--\n",
      "   -------- ------------------------------- 0.3/1.2 MB ? eta -:--:--\n",
      "   -------- ------------------------------- 0.3/1.2 MB ? eta -:--:--\n",
      "   -------- ------------------------------- 0.3/1.2 MB ? eta -:--:--\n",
      "   -------- ------------------------------- 0.3/1.2 MB ? eta -:--:--\n",
      "   -------- ------------------------------- 0.3/1.2 MB ? eta -:--:--\n",
      "   -------- ------------------------------- 0.3/1.2 MB ? eta -:--:--\n",
      "   -------- ------------------------------- 0.3/1.2 MB ? eta -:--:--\n",
      "   -------- ------------------------------- 0.3/1.2 MB ? eta -:--:--\n",
      "   ----------------- ---------------------- 0.5/1.2 MB 154.6 kB/s eta 0:00:05\n",
      "   ----------------- ---------------------- 0.5/1.2 MB 154.6 kB/s eta 0:00:05\n",
      "   ----------------- ---------------------- 0.5/1.2 MB 154.6 kB/s eta 0:00:05\n",
      "   ----------------- ---------------------- 0.5/1.2 MB 154.6 kB/s eta 0:00:05\n",
      "   ----------------- ---------------------- 0.5/1.2 MB 154.6 kB/s eta 0:00:05\n",
      "   ----------------- ---------------------- 0.5/1.2 MB 154.6 kB/s eta 0:00:05\n",
      "   ----------------- ---------------------- 0.5/1.2 MB 154.6 kB/s eta 0:00:05\n",
      "   ----------------- ---------------------- 0.5/1.2 MB 154.6 kB/s eta 0:00:05\n",
      "   ----------------- ---------------------- 0.5/1.2 MB 154.6 kB/s eta 0:00:05\n",
      "   ----------------- ---------------------- 0.5/1.2 MB 154.6 kB/s eta 0:00:05\n",
      "   ----------------- ---------------------- 0.5/1.2 MB 154.6 kB/s eta 0:00:05\n",
      "   ----------------- ---------------------- 0.5/1.2 MB 154.6 kB/s eta 0:00:05\n",
      "   ----------------- ---------------------- 0.5/1.2 MB 154.6 kB/s eta 0:00:05\n",
      "   -------------------------- ------------- 0.8/1.2 MB 116.9 kB/s eta 0:00:04\n",
      "   -------------------------- ------------- 0.8/1.2 MB 116.9 kB/s eta 0:00:04\n",
      "   -------------------------- ------------- 0.8/1.2 MB 116.9 kB/s eta 0:00:04\n",
      "   -------------------------- ------------- 0.8/1.2 MB 116.9 kB/s eta 0:00:04\n",
      "   -------------------------- ------------- 0.8/1.2 MB 116.9 kB/s eta 0:00:04\n",
      "   -------------------------- ------------- 0.8/1.2 MB 116.9 kB/s eta 0:00:04\n",
      "   -------------------------- ------------- 0.8/1.2 MB 116.9 kB/s eta 0:00:04\n",
      "   ---------------------------------- ----- 1.0/1.2 MB 133.4 kB/s eta 0:00:02\n",
      "   ---------------------------------- ----- 1.0/1.2 MB 133.4 kB/s eta 0:00:02\n",
      "   ---------------------------------------- 1.2/1.2 MB 150.2 kB/s eta 0:00:00\n"
     ]
    },
    {
     "name": "stderr",
     "output_type": "stream",
     "text": [
      "ERROR: To modify pip, please run the following command:\n",
      "D:\\Anaconda\\python.exe -m pip install -U pip setuptools wheel\n"
     ]
    }
   ],
   "source": [
    "!pip cache purge\n",
    "!pip install -U pip setuptools wheel"
   ]
  },
  {
   "cell_type": "code",
   "execution_count": 19,
   "metadata": {},
   "outputs": [
    {
     "name": "stdout",
     "output_type": "stream",
     "text": [
      "Requirement already satisfied: matplotlib in d:\\anaconda\\lib\\site-packages (3.10.7)\n",
      "Requirement already satisfied: contourpy>=1.0.1 in d:\\anaconda\\lib\\site-packages (from matplotlib) (1.3.1)\n",
      "Requirement already satisfied: cycler>=0.10 in d:\\anaconda\\lib\\site-packages (from matplotlib) (0.11.0)\n",
      "Requirement already satisfied: fonttools>=4.22.0 in d:\\anaconda\\lib\\site-packages (from matplotlib) (4.55.3)\n",
      "Requirement already satisfied: kiwisolver>=1.3.1 in d:\\anaconda\\lib\\site-packages (from matplotlib) (1.4.8)\n",
      "Requirement already satisfied: numpy>=1.23 in d:\\anaconda\\lib\\site-packages (from matplotlib) (2.1.3)\n",
      "Requirement already satisfied: packaging>=20.0 in d:\\anaconda\\lib\\site-packages (from matplotlib) (24.2)\n",
      "Requirement already satisfied: pillow>=8 in d:\\anaconda\\lib\\site-packages (from matplotlib) (11.1.0)\n",
      "Requirement already satisfied: pyparsing>=3 in d:\\anaconda\\lib\\site-packages (from matplotlib) (3.2.0)\n",
      "Requirement already satisfied: python-dateutil>=2.7 in d:\\anaconda\\lib\\site-packages (from matplotlib) (2.9.0.post0)\n",
      "Requirement already satisfied: six>=1.5 in d:\\anaconda\\lib\\site-packages (from python-dateutil>=2.7->matplotlib) (1.17.0)\n"
     ]
    }
   ],
   "source": [
    "!pip install matplotlib --upgrade"
   ]
  },
  {
   "cell_type": "markdown",
   "metadata": {
    "id": "mIPPfMuFOGwG"
   },
   "source": [
    "Import libraries and Hyperparameter"
   ]
  },
  {
   "cell_type": "code",
   "execution_count": 20,
   "metadata": {
    "colab": {
     "base_uri": "https://localhost:8080/"
    },
    "id": "8KEwsX12D8S7",
    "outputId": "31e7447a-b8a6-442a-d49e-24517c6912e7"
   },
   "outputs": [],
   "source": [
    "import io\n",
    "import os\n",
    "import torch\n",
    "from tqdm.notebook import tqdm\n",
    "from torch.utils.data import Dataset, DataLoader\n",
    "from ml_things import plot_dict, plot_confusion_matrix, fix_text\n",
    "from sklearn.metrics import classification_report, accuracy_score\n",
    "from transformers import (\n",
    "    set_seed,\n",
    "    TrainingArguments,\n",
    "    Trainer,\n",
    "    GPT2Config,\n",
    "    GPT2Tokenizer,\n",
    "    GPT2ForSequenceClassification,\n",
    "    get_linear_schedule_with_warmup\n",
    ")\n",
    "from torch.optim import AdamW\n",
    "\n",
    "\n",
    "# Set seed for reproducibility.\n",
    "set_seed(130)\n",
    "# Number of training epochs (authors on fine-tuning Bert recommend between 2 and 4).\n",
    "epochs = 2\n",
    "\n",
    "# Number of batches - depending on the max sequence length and GPU memory.\n",
    "# For 512 sequence length batch of 10 works without cuda memory issues.\n",
    "# For small sequence length can try batch of 32 or higher.\n",
    "batch_size = 128\n",
    "\n",
    "# Pad or truncate text sequences to a specific length\n",
    "# if `None` it will use maximum sequence of word piece tokens allowed by model.\n",
    "max_length = 40\n",
    "\n",
    "# Look for gpu to use. Will use `cpu` by default if no gpu found.\n",
    "device = torch.device('cuda' if torch.cuda.is_available() else 'cpu')\n",
    "\n",
    "# Name of transformers model - will use already pretrained model.\n",
    "# Path of transformer model - will load your own model from local disk.\n",
    "model_name_or_path = 'gpt2'\n",
    "\n",
    "# Dictionary of labels and their id - this will be used to convert.\n",
    "# String labels to number ids.\n",
    "labels_ids = {'not_informative': 0, 'informative': 1}\n",
    "# How many labels are we using in training.\n",
    "# This is used to decide size of classification head.\n",
    "n_labels = len(labels_ids)\n"
   ]
  },
  {
   "cell_type": "markdown",
   "metadata": {
    "id": "cxpI7qG4ONK1"
   },
   "source": [
    "create Train Dataset"
   ]
  },
  {
   "cell_type": "code",
   "execution_count": 21,
   "metadata": {
    "id": "2qENfSrGD8a9"
   },
   "outputs": [],
   "source": [
    "class MovieReviewsDataset(Dataset):\n",
    "  r\"\"\"PyTorch Dataset class for loading data.\n",
    "\n",
    "  This is where the data parsing happens.\n",
    "\n",
    "  This class is built with reusability in mind: it can be used as is as.\n",
    "\n",
    "  Arguments:\n",
    "\n",
    "    path (:obj:`str`):\n",
    "        Path to the data partition.\n",
    "\n",
    "  \"\"\"\n",
    "\n",
    "  def __init__(self, path, use_tokenizer):\n",
    "\n",
    "    a=pd.read_csv('data/CrisisMMD/crisismmd_datasplit_all/crisismmd_datasplit_alltask_informative_text_img_train.tsv')\n",
    "    self.texts = []\n",
    "    self.labels = []\n",
    "   \n",
    "    for content in a['tweet_text']:\n",
    "       self.texts.append(content)\n",
    "    # Since the labels are defined by folders with data we loop \n",
    "     # through each label.\n",
    "    for label in a['label_text']:\n",
    "       self.labels.append(label)\n",
    "  \n",
    "         # Number of exmaples.\n",
    "    self.n_examples = len(self.labels)\n",
    "    \n",
    "\n",
    "    return\n",
    "\n",
    "  def __len__(self):\n",
    "    r\"\"\"When used `len` return the number of examples.\n",
    "\n",
    "    \"\"\"\n",
    "    \n",
    "    return self.n_examples\n",
    "\n",
    "  def __getitem__(self, item):\n",
    "    r\"\"\"Given an index return an example from the position.\n",
    "    \n",
    "    Arguments:\n",
    "\n",
    "      item (:obj:`int`):\n",
    "          Index position to pick an example to return.\n",
    "          Returns:\n",
    "      :obj:`Dict[str, str]`: Dictionary of inputs that contain text and \n",
    "      asociated labels.\n",
    "\n",
    "    \"\"\"\n",
    "\n",
    "    return {'text':self.texts[item],\n",
    "            'label':self.labels[item]}\n"
   ]
  },
  {
   "cell_type": "markdown",
   "metadata": {
    "id": "H_JRZr8vOQjf"
   },
   "source": [
    "Create validation Dataset"
   ]
  },
  {
   "cell_type": "code",
   "execution_count": 22,
   "metadata": {
    "id": "tm1ob2TAD8ez"
   },
   "outputs": [],
   "source": [
    "class MovieReviewsDatasetvalid(Dataset):\n",
    "  r\"\"\"PyTorch Dataset class for loading data.\n",
    "\n",
    "  This is where the data parsing happens.\n",
    "\n",
    "  This class is built with reusability in mind: it can be used as is as.\n",
    "\n",
    "  Arguments:\n",
    "\n",
    "    path (:obj:`str`):\n",
    "        Path to the data partition.\n",
    "\n",
    "  \"\"\"\n",
    "\n",
    "  def __init__(self, path, use_tokenizer):\n",
    "\n",
    "    a=pd.read_csv('data/CrisisMMD/crisismmd_datasplit_all/crisismmd_datasplit_all/task_informative_text_img_dev.tsv')\n",
    "    self.texts = []\n",
    "    self.labels = []\n",
    "   \n",
    "    for content in a['tweet_text']:\n",
    "       self.texts.append(content)\n",
    "    # Since the labels are defined by folders with data we loop \n",
    "     # through each label.\n",
    "    for label in a['label_text']:\n",
    "       self.labels.append(label)\n",
    "\n",
    "         # Number of exmaples.\n",
    "    self.n_examples = len(self.labels)\n",
    "    \n",
    "\n",
    "    return\n",
    "\n",
    "  def __len__(self):\n",
    "    r\"\"\"When used `len` return the number of examples.\n",
    "\n",
    "    \"\"\"\n",
    "    \n",
    "    return self.n_examples\n",
    "\n",
    "  def __getitem__(self, item):\n",
    "    r\"\"\"Given an index return an example from the position.\n",
    "    \n",
    "    Arguments:\n",
    "\n",
    "      item (:obj:`int`):\n",
    "          Index position to pick an example to return.\n",
    "          Returns:\n",
    "      :obj:`Dict[str, str]`: Dictionary of inputs that contain text and \n",
    "      asociated labels.\n",
    "\n",
    "    \"\"\"\n",
    "\n",
    "    return {'text':self.texts[item],\n",
    "            'label':self.labels[item]}\n"
   ]
  },
  {
   "cell_type": "markdown",
   "metadata": {
    "id": "Pb1CslHnOaUs"
   },
   "source": [
    "Create Test Dataset"
   ]
  },
  {
   "cell_type": "code",
   "execution_count": 23,
   "metadata": {
    "id": "cpH-Ef2fD8iM"
   },
   "outputs": [],
   "source": [
    "import torch\n",
    "from torch.utils.data import Dataset, DataLoader\n",
    "import pandas as pd\n",
    "\n",
    "class MovieReviewsDataset(Dataset):\n",
    "    def __init__(self, path, tokenizer, task='informative', split='train', max_length=128):\n",
    "        # Construct TSV file path\n",
    "        file_path = f\"{path}/task_{task}_text_img_{split}.tsv\"\n",
    "        \n",
    "        # Read TSV with tab separator, skip malformed lines\n",
    "        df = pd.read_csv(file_path, sep='\\t', on_bad_lines='skip')\n",
    "        \n",
    "        # Make sure to check the correct column names\n",
    "        self.texts = df['text'].tolist()       # Replace 'text' if your column name is different\n",
    "        self.labels = df['label'].tolist()     # Replace 'label' if your column name is different\n",
    "        self.tokenizer = tokenizer\n",
    "        self.max_length = max_length\n",
    "\n",
    "    def __len__(self):\n",
    "        return len(self.texts)\n",
    "\n",
    "    def __getitem__(self, idx):\n",
    "        text = str(self.texts[idx])\n",
    "        label = int(self.labels[idx])\n",
    "        \n",
    "        encoding = self.tokenizer(\n",
    "            text,\n",
    "            truncation=True,\n",
    "            padding='max_length',\n",
    "            max_length=self.max_length,\n",
    "            return_tensors='pt'\n",
    "        )\n",
    "        \n",
    "        return {\n",
    "            \"input_ids\": encoding['input_ids'].squeeze(0),\n",
    "            \"attention_mask\": encoding['attention_mask'].squeeze(0),\n",
    "            \"labels\": torch.tensor(label, dtype=torch.long)   # ✅ Convert label to tensor\n",
    "        }\n"
   ]
  },
  {
   "cell_type": "markdown",
   "metadata": {
    "id": "pHsfiZ0EOlJZ"
   },
   "source": [
    "GPT2 Classifier"
   ]
  },
  {
   "cell_type": "code",
   "execution_count": 24,
   "metadata": {
    "id": "uUjaaUFKD8ls"
   },
   "outputs": [],
   "source": [
    "def gpt2_classification_collator(batch):\n",
    "    input_ids = torch.stack([x['input_ids'] for x in batch])\n",
    "    attention_mask = torch.stack([x['attention_mask'] for x in batch])\n",
    "    labels = torch.stack([x['labels'] for x in batch])\n",
    "    \n",
    "    return {\n",
    "        \"input_ids\": input_ids,\n",
    "        \"attention_mask\": attention_mask,\n",
    "        \"labels\": labels\n",
    "    }\n"
   ]
  },
  {
   "cell_type": "markdown",
   "metadata": {
    "id": "SBzwmNzuOilf"
   },
   "source": [
    "Load GPT2 Classifier"
   ]
  },
  {
   "cell_type": "code",
   "execution_count": 25,
   "metadata": {
    "colab": {
     "base_uri": "https://localhost:8080/",
     "height": 249,
     "referenced_widgets": [
      "506880aea2084dc083353a6371521a5b",
      "a66d2bd146184b61864d946737692c93",
      "dc1f58f32a0f4fe7b5095a6d1f0e9602",
      "58a3aacf39b1439e9d8e71f3408558bb",
      "d150c0a1c0024cb58dc987889230db57",
      "a7a29ffdde96448a9d1550745058fff8",
      "386e3fdf5bb5489495ad9a81ceae10de",
      "d52cf968c275476d9a46190f17e46753",
      "c4dec1d1a1034365a6d499d413aaae34",
      "a2dcfeae72ec4ed490cfb9ede3e5cc98",
      "99d399f516c34c75aa5a59c781588754",
      "8ca5290169f04ac6a76a4c4b38d5c3bb",
      "792782d5d6e04b198edb0744704873a2",
      "4c29efe4787b4789a143ce2c2dc7a82e",
      "12c31f7eaf69477a93b34cc2fe5d5ad2",
      "2ad1c053b3594a78b35bacb295b075b1",
      "2fceca72a2574bfc81da1ceb49bb8f9b",
      "a6903ae410e8444d9163454a4d4fc5a5",
      "353710d72c534c8ab04e1b97fa1d167c",
      "3c7b20aa5e5c4a5fa1bac626c53f9ddd",
      "999d8331162a4d3baca6afffc6528d7f",
      "d8c9671f795040e695957d98917aff28",
      "d389b008621b416184d5cac54c2fe4dd",
      "0c3a68c8c8874ad79d5264e1f91545c5",
      "eeb0516d01014782b8fe9b9583dc59a7",
      "104d899612f04ac3ac111e7dd96f589c",
      "f863313976434106bc4be0a39d252fea",
      "67e78eab73a24e84af7a7b5cf942093e",
      "14039c868325457cacd22d3186e88084",
      "2993b464f0c743d495da388d324135a0",
      "55d1a2a86caa44df89a0823eb34257a5",
      "8c66bccb8ef24c979dd15ba618fff33a",
      "d3c9dc9b50aa45c3beaff2313fc9cd1a",
      "b1469628d08143f687b50a383c19ad09",
      "89b3556d63a945ae903030516377adcf",
      "d9e5ec0c31f044d7b9fde5140cf1c08e",
      "e24be2a8f8974936ba082115ecec328c",
      "6ee7bbe1f2694a41bc5bdf308bc82632",
      "f5d1afb0924c43ba81253107cf8e806a",
      "7a859a9097604f21bea489631731ba42",
      "11d5c4242e174c279503d309f9a7eb88",
      "1763f64ead434ba5b258eeacc1275ded",
      "2423fd43ab4140d59e26d7f2a0ed6752",
      "c9fd0679d7c0459fbd61482718b7ed40"
     ]
    },
    "id": "lgygGNjxD8pt",
    "outputId": "7bb489c7-4cf8-4cd4-eebf-be77f9957e5e"
   },
   "outputs": [
    {
     "name": "stdout",
     "output_type": "stream",
     "text": [
      "Loading configuraiton...\n",
      "Loading tokenizer...\n"
     ]
    },
    {
     "name": "stderr",
     "output_type": "stream",
     "text": [
      "Some weights of GPT2ForSequenceClassification were not initialized from the model checkpoint at gpt2 and are newly initialized: ['score.weight']\n",
      "You should probably TRAIN this model on a down-stream task to be able to use it for predictions and inference.\n"
     ]
    },
    {
     "name": "stdout",
     "output_type": "stream",
     "text": [
      "Loading model...\n",
      "Model loaded to `cpu`\n"
     ]
    }
   ],
   "source": [
    "# Get model configuration.\n",
    "print('Loading configuraiton...')\n",
    "model_config = GPT2Config.from_pretrained(pretrained_model_name_or_path=model_name_or_path, num_labels=n_labels)\n",
    "\n",
    "# Get model's tokenizer.\n",
    "print('Loading tokenizer...')\n",
    "tokenizer = GPT2Tokenizer.from_pretrained(pretrained_model_name_or_path=model_name_or_path)\n",
    "# default to left padding\n",
    "tokenizer.padding_side = \"left\"\n",
    "# Define PAD Token = EOS Token = 50256\n",
    "tokenizer.pad_token = tokenizer.eos_token\n",
    "\n",
    "\n",
    "# Get the actual model.\n",
    "print('Loading model...')\n",
    "model_text = GPT2ForSequenceClassification.from_pretrained(pretrained_model_name_or_path=model_name_or_path, config=model_config)\n",
    "\n",
    "# resize model embedding to match new tokenizer\n",
    "model_text.resize_token_embeddings(len(tokenizer))\n",
    "\n",
    "# fix model padding token id\n",
    "model_text.config.pad_token_id = model_text.config.eos_token_id\n",
    "\n",
    "# Load model to defined device.\n",
    "model_text.to(device)\n",
    "print('Model loaded to `%s`'%device)"
   ]
  },
  {
   "cell_type": "markdown",
   "metadata": {
    "id": "QlOzS0puO2KZ"
   },
   "source": [
    "Create batches for training,test and validation Data"
   ]
  },
  {
   "cell_type": "code",
   "execution_count": 26,
   "metadata": {
    "colab": {
     "base_uri": "https://localhost:8080/"
    },
    "id": "LO-FZ2XqESax",
    "outputId": "6de18c36-63d1-40c9-a2ae-df331c83c30c"
   },
   "outputs": [
    {
     "name": "stdout",
     "output_type": "stream",
     "text": [
      "Loaded data/CrisisMMD/crisismmd_datasplit_all/crisismmd_datasplit_all/task_informative_text_img_train.tsv with columns: ['event_name', 'tweet_id', 'image_id', 'tweet_text', 'image', 'label', 'label_text', 'label_image', 'label_text_image']\n",
      "Train dataset: 13608 examples, 1701 batches\n",
      "Loaded data/CrisisMMD/crisismmd_datasplit_all/crisismmd_datasplit_all/task_informative_text_img_dev.tsv with columns: ['event_name', 'tweet_id', 'image_id', 'tweet_text', 'image', 'label', 'label_text', 'label_image', 'label_text_image']\n",
      "Validation dataset: 2237 examples, 280 batches\n",
      "Loaded data/CrisisMMD/crisismmd_datasplit_all/crisismmd_datasplit_all/task_informative_text_img_test.tsv with columns: ['event_name', 'tweet_id', 'image_id', 'tweet_text', 'image', 'label', 'label_text', 'label_image', 'label_text_image']\n",
      "Test dataset: 2237 examples, 280 batches\n"
     ]
    }
   ],
   "source": [
    "import pandas as pd\n",
    "import warnings\n",
    "from torch.utils.data import Dataset, DataLoader\n",
    "\n",
    "warnings.filterwarnings(\"ignore\", category=DeprecationWarning)\n",
    "\n",
    "# ==================== Dataset Class ====================\n",
    "class MovieReviewsDataset(Dataset):\n",
    "    def __init__(self, tsv_path, tokenizer):\n",
    "        # Read TSV file safely\n",
    "        df = pd.read_csv(tsv_path, sep='\\t', on_bad_lines='skip')\n",
    "        print(f\"Loaded {tsv_path} with columns: {df.columns.tolist()}\")\n",
    "\n",
    "        # Automatically detect likely text and label columns\n",
    "        text_col = None\n",
    "        label_col = None\n",
    "        for col in df.columns:\n",
    "            if 'text' in col.lower():\n",
    "                text_col = col\n",
    "            if 'label' in col.lower() or 'damage' in col.lower() or 'humanitarian' in col.lower():\n",
    "                label_col = col\n",
    "\n",
    "        if text_col is None or label_col is None:\n",
    "            raise ValueError(\"Could not automatically detect text/label columns in TSV file.\")\n",
    "\n",
    "        self.texts = df[text_col].tolist()\n",
    "        self.labels = df[label_col].tolist()\n",
    "        self.tokenizer = tokenizer\n",
    "\n",
    "    def __len__(self):\n",
    "        return len(self.texts)\n",
    "\n",
    "    def __getitem__(self, idx):\n",
    "        text = self.texts[idx]\n",
    "        label = self.labels[idx]\n",
    "        encoding = self.tokenizer(text, truncation=True, padding='max_length', max_length=128, return_tensors='pt')\n",
    "        return {\"input_ids\": encoding['input_ids'].squeeze(0),\n",
    "                \"attention_mask\": encoding['attention_mask'].squeeze(0),\n",
    "                \"labels\": label}\n",
    "\n",
    "# ==================== Paths ====================\n",
    "base_path = 'data/CrisisMMD/crisismmd_datasplit_all/crisismmd_datasplit_all/'\n",
    "train_file = base_path + 'task_informative_text_img_train.tsv'\n",
    "valid_file = base_path + 'task_informative_text_img_dev.tsv'\n",
    "test_file  = base_path + 'task_informative_text_img_test.tsv'\n",
    "\n",
    "# ==================== Dataloaders ====================\n",
    "batch_size = 8  # adjust as needed\n",
    "\n",
    "# Train\n",
    "train_dataset = MovieReviewsDataset(train_file, tokenizer)\n",
    "train_dataloader = DataLoader(train_dataset, batch_size=batch_size, shuffle=True)\n",
    "print(f\"Train dataset: {len(train_dataset)} examples, {len(train_dataloader)} batches\")\n",
    "\n",
    "# Validation\n",
    "valid_dataset = MovieReviewsDataset(valid_file, tokenizer)\n",
    "valid_dataloader = DataLoader(valid_dataset, batch_size=batch_size, shuffle=False)\n",
    "print(f\"Validation dataset: {len(valid_dataset)} examples, {len(valid_dataloader)} batches\")\n",
    "\n",
    "# Test\n",
    "test_dataset = MovieReviewsDataset(test_file, tokenizer)\n",
    "test_dataloader = DataLoader(test_dataset, batch_size=batch_size, shuffle=False)\n",
    "print(f\"Test dataset: {len(test_dataset)} examples, {len(test_dataloader)} batches\")\n"
   ]
  },
  {
   "cell_type": "markdown",
   "metadata": {
    "id": "66V-u1cbO037"
   },
   "source": [
    "Train data"
   ]
  },
  {
   "cell_type": "code",
   "execution_count": 27,
   "metadata": {
    "colab": {
     "base_uri": "https://localhost:8080/",
     "height": 1000,
     "referenced_widgets": [
      "3b93f254ed0b45bf911bd8a2aa14e5af",
      "dc86ceb48d7f42f490e9333260353a8f",
      "e4947b0a37384d7fa527457450f86413",
      "26985c62e62f4d6b80365d3db68de1f5",
      "471b12c3c7484b0db2b46ea8f1b8dc90",
      "20c0f1f7e4514765b4dde932367b7d50",
      "212318c8f05d4eb89eb7a54b631c431a",
      "f77f9d8fd59b4af4b1f8190257b77a9f",
      "55921b46bf7f4c80bbb99cb982cadd73",
      "5194f943ee5d46459034f5ab939edad0",
      "73cf60a25b2b43d78d63fc96cd6e3c64",
      "9ed2a6fd0094490581b513a56ae1829e",
      "1451d554d468479c90b443b9798cd2a3",
      "625a2b8338b14ecbb228cd15ab666abe",
      "fb0580aa2a9c4806945446af10100120",
      "c3740944fd514859a286779af9ba3ad3",
      "015e658b4fdb40769cb7fbac691a65d0",
      "f728629ec79f4977b39250e455cbc25c",
      "2182f428fa1c40b4ba02da942896edb2",
      "1241ea9e5fa2445f9126fb0311baaa6f",
      "5b4c8b1fee194b4bb4f46542b16a3e0f",
      "127a32f7208949fdb9b51e1f7878a2f3",
      "a02fcf679a844f4c86c8abd6af309635",
      "23987dbad5294372a4e7e0f49a221a12",
      "23e852c23bdc4434b3c87341698d93d7",
      "dc12fe0ecf9d4c0faaa3433b935c844b",
      "fc86464d00c740068b202f186671cb6e",
      "9063d157347d4f7fb8f4337d9c866c27",
      "03955769ca0745289869993d32260462",
      "4b468db0c4de490c898aad873e444ead",
      "11445b9e417f49f09c3544e9fa574d45",
      "fead7dcf99b44fa5acdb4ad4f00e6069",
      "65f37bcf7641472c8010f590015467cb",
      "59083ecee2114075a31fde02d11286a2",
      "c892848f21ad4376aedf1355bd6a6b90",
      "1f37ba555fb741dcbc97ec5149c84365",
      "5bae639f929d4585be7b0fc44d20800e",
      "61e4f27aa6a64c608bab0b93237676c8",
      "a1121874a5bf4d7f8e2981f146a1d64f",
      "f34ce5c5d89d4b258c01da90b49dd793",
      "818f121eb0c94a6e923ff75d6b288228",
      "036b6c00dae84701bfb321ed2a37b60e",
      "de195dbc646044bf83443124a0f9fa8f",
      "edcdd15fce9443af96e853c2f2d84ca3",
      "75cb51b945bf4b9cb06fa048e5017b19",
      "5281f4eb395b4c4ba4f93f8de79ed200",
      "b31e7d7ac1f04fca93b9b00a34a6137e",
      "a33de782aa0b49279441fd16d93f6041",
      "c6dd4a8d30354ec9a5be908f42b2a073",
      "6e42c7ec86d84b79af60b8827f55d880",
      "f9786ebe71484329a447141ec0792827",
      "27917f8e8ef3435db42aa5b001217215",
      "99168f2d5bc14c0ab4c4d8d1a06c1339",
      "e5896a7835614434a677345458f88deb",
      "59001b2d39e046fb8ff5b057185cb6ab",
      "d1c852e8c6ef41129bd63ffc6ae3a6b6",
      "20c85a6fb2e44073b9abbf948c69b4b0",
      "e42f234431fd48699ed94dc337888d12",
      "e9daeff808c84db486568639e1f44719",
      "6f4e7c787ff34d5e9909b32adb879720",
      "f907ff9251fa49cda99a2020e471dcc1",
      "0ccdd3416249412292651c733e7d6ce6",
      "2f98d9a619b94468b5b1b55a12dc27ed",
      "05bfd7a8bd02427eb111687efcd15dc6",
      "a9574f183dc743fab1f987670d88800b",
      "9548abe5cee147949e21bb5229c5f885",
      "f2d4c714940740e0b3f411e4c7cbbc2c",
      "130bd4833c88454f8991eebd8009ca49",
      "7acbc2cc01e34151bc582fef9938e5f2",
      "6e75fa558f414b0d8dc8b3fae8298122",
      "d569f72efb2748dfb8ae23c73ed7e88a",
      "e16f91c63a064978a1f70350be34498c",
      "b7d1d1be34b840b59f13d836d08a8af6",
      "5056dda0d64d40929a6412bbf581ea82",
      "b403f744f7b54302ba5037162792365f",
      "9cc4ee010900483fb2d03318bfab8b8d",
      "68d30b9fae4546c1876d26e6266536ba"
     ]
    },
    "id": "crf9W3ymESkZ",
    "outputId": "f165b0ec-2df9-4962-a1ec-879733a79e03"
   },
   "outputs": [],
   "source": [
    "import torch\n",
    "from torch.utils.data import Dataset, DataLoader\n",
    "import pandas as pd\n",
    "\n",
    "class MovieReviewsDataset(Dataset):\n",
    "    def __init__(self, path, tokenizer, task='informative', split='train', max_length=128):\n",
    "        # Construct TSV file path\n",
    "        file_path = f\"{path}/task_{task}_text_img_{split}.tsv\"\n",
    "        \n",
    "        # Read TSV with tab separator, skip malformed lines\n",
    "        df = pd.read_csv(file_path, sep='\\t', on_bad_lines='skip')\n",
    "        \n",
    "        # Make sure to check the correct column names\n",
    "        self.texts = df['text'].tolist()       # Replace 'text' if your column name is different\n",
    "        self.labels = df['label'].tolist()     # Replace 'label' if your column name is different\n",
    "        self.tokenizer = tokenizer\n",
    "        self.max_length = max_length\n",
    "\n",
    "    def __len__(self):\n",
    "        return len(self.texts)\n",
    "\n",
    "    def __getitem__(self, idx):\n",
    "        text = str(self.texts[idx])\n",
    "        label = int(self.labels[idx])\n",
    "        \n",
    "        encoding = self.tokenizer(\n",
    "            text,\n",
    "            truncation=True,\n",
    "            padding='max_length',\n",
    "            max_length=self.max_length,\n",
    "            return_tensors='pt'\n",
    "        )\n",
    "        \n",
    "        return {\n",
    "            \"input_ids\": encoding['input_ids'].squeeze(0),\n",
    "            \"attention_mask\": encoding['attention_mask'].squeeze(0),\n",
    "            \"labels\": torch.tensor(label, dtype=torch.long)   # ✅ Convert label to tensor\n",
    "        }\n"
   ]
  },
  {
   "cell_type": "code",
   "execution_count": 28,
   "metadata": {},
   "outputs": [],
   "source": [
    "def gpt2_classification_collator(batch):\n",
    "    input_ids = torch.stack([x['input_ids'] for x in batch])\n",
    "    attention_mask = torch.stack([x['attention_mask'] for x in batch])\n",
    "    labels = torch.stack([x['labels'] for x in batch])\n",
    "    \n",
    "    return {\n",
    "        \"input_ids\": input_ids,\n",
    "        \"attention_mask\": attention_mask,\n",
    "        \"labels\": labels\n",
    "    }\n"
   ]
  },
  {
   "cell_type": "code",
   "execution_count": 29,
   "metadata": {},
   "outputs": [
    {
     "name": "stdout",
     "output_type": "stream",
     "text": [
      "Train batches: 851, Validation batches: 140, Test batches: 140\n"
     ]
    }
   ],
   "source": [
    "import pandas as pd\n",
    "import torch\n",
    "from torch.utils.data import Dataset, DataLoader\n",
    "\n",
    "class MovieReviewsDataset(Dataset):\n",
    "    def __init__(self, path, tokenizer, split='train', max_length=128):\n",
    "        file_map = {\n",
    "            'train': 'task_informative_text_img_train.tsv',\n",
    "            'dev': 'task_informative_text_img_dev.tsv',\n",
    "            'test': 'task_informative_text_img_test.tsv'\n",
    "        }\n",
    "        file_path = f\"{path}/{file_map[split]}\"\n",
    "        df = pd.read_csv(file_path, sep='\\t', on_bad_lines='skip')\n",
    "\n",
    "        self.texts = df['tweet_text'].tolist()\n",
    "        # Map string labels to integers\n",
    "        label_map = {'informative': 1, 'not_informative': 0}  \n",
    "        self.labels = df['label'].map(label_map).tolist()\n",
    "        self.tokenizer = tokenizer\n",
    "        self.max_length = max_length\n",
    "\n",
    "    def __len__(self):\n",
    "        return len(self.texts)\n",
    "\n",
    "    def __getitem__(self, idx):\n",
    "        text = str(self.texts[idx])\n",
    "        label = self.labels[idx]  # now it's an integer\n",
    "\n",
    "        encoding = self.tokenizer(\n",
    "            text,\n",
    "            truncation=True,\n",
    "            padding='max_length',\n",
    "            max_length=self.max_length,\n",
    "            return_tensors='pt'\n",
    "        )\n",
    "\n",
    "        # Flatten tensors\n",
    "        item = {key: val.squeeze(0) for key, val in encoding.items()}\n",
    "        item['labels'] = torch.tensor(label, dtype=torch.long)  # must be long for classification\n",
    "        return item\n",
    "\n",
    "\n",
    "# === Hyperparameters ===\n",
    "batch_size = 16\n",
    "max_length = 128\n",
    "\n",
    "# Assume `tokenizer` is already defined\n",
    "gpt2_classification_collator = lambda batch: {\n",
    "    key: torch.stack([b[key] for b in batch]) for key in batch[0]\n",
    "}\n",
    "\n",
    "# === Create datasets & dataloaders ===\n",
    "path = 'data/CrisisMMD/crisismmd_datasplit_all/crisismmd_datasplit_all'\n",
    "\n",
    "train_dataset = MovieReviewsDataset(path=path, tokenizer=tokenizer, split='train', max_length=max_length)\n",
    "train_dataloader = DataLoader(train_dataset, batch_size=batch_size, shuffle=True, collate_fn=gpt2_classification_collator)\n",
    "\n",
    "valid_dataset = MovieReviewsDataset(path=path, tokenizer=tokenizer, split='dev', max_length=max_length)\n",
    "valid_dataloader = DataLoader(valid_dataset, batch_size=batch_size, shuffle=False, collate_fn=gpt2_classification_collator)\n",
    "\n",
    "test_dataset = MovieReviewsDataset(path=path, tokenizer=tokenizer, split='test', max_length=max_length)\n",
    "test_dataloader = DataLoader(test_dataset, batch_size=batch_size, shuffle=False, collate_fn=gpt2_classification_collator)\n",
    "\n",
    "print(f\"Train batches: {len(train_dataloader)}, Validation batches: {len(valid_dataloader)}, Test batches: {len(test_dataloader)}\")\n"
   ]
  },
  {
   "cell_type": "code",
   "execution_count": 49,
   "metadata": {},
   "outputs": [
    {
     "name": "stdout",
     "output_type": "stream",
     "text": [
      "\n",
      "Epoch 1/2\n"
     ]
    },
    {
     "name": "stderr",
     "output_type": "stream",
     "text": [
      "100%|██████████| 851/851 [1:31:33<00:00,  6.46s/it]\n"
     ]
    },
    {
     "name": "stdout",
     "output_type": "stream",
     "text": [
      "Train Loss: 0.5326, Val Loss: 0.5802, Train Acc: 0.7396, Val Acc: 0.7287\n",
      "\n",
      "Epoch 2/2\n"
     ]
    },
    {
     "name": "stderr",
     "output_type": "stream",
     "text": [
      "100%|██████████| 851/851 [1:47:50<00:00,  7.60s/it]\n"
     ]
    },
    {
     "name": "stdout",
     "output_type": "stream",
     "text": [
      "Train Loss: 0.5355, Val Loss: 0.5802, Train Acc: 0.7376, Val Acc: 0.7287\n"
     ]
    }
   ],
   "source": [
    "all_loss = {'train_loss': [], 'val_loss': []}\n",
    "all_acc = {'train_acc': [], 'val_acc': []}\n",
    "\n",
    "for epoch in range(epochs):\n",
    "    print(f\"\\nEpoch {epoch+1}/{epochs}\")\n",
    "\n",
    "    # ---------- TRAIN ----------\n",
    "    model_text.train()\n",
    "    train_labels, train_preds = [], []\n",
    "    train_loss_total = 0\n",
    "    \n",
    "    for batch in tqdm(train_dataloader):\n",
    "        optimizer.zero_grad()\n",
    "        \n",
    "        input_ids = batch['input_ids'].to(device)\n",
    "        attention_mask = batch['attention_mask'].to(device)\n",
    "        labels = batch['labels'].to(device)\n",
    "\n",
    "        outputs = model_text(input_ids=input_ids, attention_mask=attention_mask, labels=labels)\n",
    "        loss = outputs.loss\n",
    "        logits = outputs.logits\n",
    "        \n",
    "        loss.backward()\n",
    "        optimizer.step()\n",
    "        scheduler.step()\n",
    "        \n",
    "        train_loss_total += loss.item()\n",
    "        train_labels += labels.cpu().numpy().tolist()\n",
    "        train_preds += logits.argmax(dim=1).cpu().numpy().tolist()\n",
    "    \n",
    "    train_acc = accuracy_score(train_labels, train_preds)\n",
    "    train_loss_avg = train_loss_total / len(train_dataloader)\n",
    "\n",
    "    # ---------- VALIDATION ----------\n",
    "    model_text.eval()\n",
    "    val_labels, val_preds = [], []\n",
    "    val_loss_total = 0\n",
    "\n",
    "    with torch.no_grad():\n",
    "        for batch in valid_dataloader:\n",
    "            input_ids = batch['input_ids'].to(device)\n",
    "            attention_mask = batch['attention_mask'].to(device)\n",
    "            labels = batch['labels'].to(device)\n",
    "            \n",
    "            outputs = model_text(input_ids=input_ids, attention_mask=attention_mask, labels=labels)\n",
    "            loss = outputs.loss\n",
    "            logits = outputs.logits\n",
    "            \n",
    "            val_loss_total += loss.item()\n",
    "            val_labels += labels.cpu().numpy().tolist()\n",
    "            val_preds += logits.argmax(dim=1).cpu().numpy().tolist()\n",
    "\n",
    "    val_acc = accuracy_score(val_labels, val_preds)\n",
    "    val_loss_avg = val_loss_total / len(valid_dataloader)\n",
    "\n",
    "    print(f\"Train Loss: {train_loss_avg:.4f}, Val Loss: {val_loss_avg:.4f}, Train Acc: {train_acc:.4f}, Val Acc: {val_acc:.4f}\")\n",
    "\n",
    "    all_loss['train_loss'].append(train_loss_avg)\n",
    "    all_loss['val_loss'].append(val_loss_avg)\n",
    "    all_acc['train_acc'].append(train_acc)\n",
    "    all_acc['val_acc'].append(val_acc)\n"
   ]
  },
  {
   "cell_type": "code",
   "execution_count": 69,
   "metadata": {},
   "outputs": [
    {
     "name": "stdout",
     "output_type": "stream",
     "text": [
      "\n",
      "Classification Report:\n",
      "                 precision    recall  f1-score   support\n",
      "\n",
      "not_informative       0.82      0.36      0.50       864\n",
      "    informative       0.70      0.95      0.81      1373\n",
      "\n",
      "       accuracy                           0.72      2237\n",
      "      macro avg       0.76      0.65      0.65      2237\n",
      "   weighted avg       0.75      0.72      0.69      2237\n",
      "\n",
      "\n",
      "Confusion Matrix:\n",
      "[[ 308  556]\n",
      " [  66 1307]]\n"
     ]
    }
   ],
   "source": [
    "from sklearn.metrics import classification_report, confusion_matrix\n",
    "\n",
    "# ---------- TEST EVALUATION ----------\n",
    "model_text.eval()\n",
    "test_labels, test_preds = [], []\n",
    "\n",
    "with torch.no_grad():\n",
    "    for batch in test_dataloader:  # ensure this exists\n",
    "        input_ids = batch['input_ids'].to(device)\n",
    "        attention_mask = batch['attention_mask'].to(device)\n",
    "        labels = batch['labels'].to(device)\n",
    "\n",
    "        outputs = model_text(input_ids=input_ids, attention_mask=attention_mask)\n",
    "        logits = outputs.logits\n",
    "\n",
    "        test_labels += labels.cpu().numpy().tolist()\n",
    "        test_preds += logits.argmax(dim=1).cpu().numpy().tolist()\n",
    "\n",
    "# ---------- REPORT ----------\n",
    "print(\"\\nClassification Report:\")\n",
    "print(classification_report(test_labels, test_preds, target_names=['not_informative', 'informative']))\n",
    "\n",
    "print(\"\\nConfusion Matrix:\")\n",
    "print(confusion_matrix(test_labels, test_preds))\n"
   ]
  },
  {
   "cell_type": "code",
   "execution_count": 74,
   "metadata": {},
   "outputs": [
    {
     "name": "stdout",
     "output_type": "stream",
     "text": [
      "Train Loss: 0.5355, Val Loss: 0.5802, Train Acc: 0.7376, Val Acc: 0.7287\n"
     ]
    }
   ],
   "source": [
    "print(f\"Train Loss: {train_loss_avg:.4f}, Val Loss: {val_loss_avg:.4f}, \"\n",
    "      f\"Train Acc: {train_acc:.4f}, Val Acc: {val_acc:.4f}\")\n",
    "\n",
    "all_loss['train_loss'].append(train_loss_avg)\n",
    "all_loss['val_loss'].append(val_loss_avg)\n",
    "all_acc['train_acc'].append(train_acc)\n",
    "all_acc['val_acc'].append(val_acc)"
   ]
  },
  {
   "cell_type": "code",
   "execution_count": 70,
   "metadata": {},
   "outputs": [
    {
     "data": {
      "image/png": "[encoded data removed]",
      "text/plain": [
       "<Figure size 800x500 with 1 Axes>"
      ]
     },
     "metadata": {},
     "output_type": "display_data"
    },
    {
     "data": {
      "image/png": "[encoded data removed]",
      "text/plain": [
       "<Figure size 800x500 with 1 Axes>"
      ]
     },
     "metadata": {},
     "output_type": "display_data"
    }
   ],
   "source": [
    "import matplotlib.pyplot as plt\n",
    "\n",
    "# Loss plot\n",
    "plt.figure(figsize=(8,5))\n",
    "plt.plot(all_loss['train_loss'], label='Train Loss', linestyle='-')\n",
    "plt.plot(all_loss['val_loss'], label='Val Loss', linestyle='--')\n",
    "plt.xlabel('Epochs')\n",
    "plt.ylabel('Loss')\n",
    "plt.title('Training & Validation Loss')\n",
    "plt.legend()\n",
    "plt.show()\n",
    "\n",
    "# Accuracy plot\n",
    "plt.figure(figsize=(8,5))\n",
    "plt.plot(all_acc['train_acc'], label='Train Acc', linestyle='-')\n",
    "plt.plot(all_acc['val_acc'], label='Val Acc', linestyle='--')\n",
    "plt.xlabel('Epochs')\n",
    "plt.ylabel('Accuracy')\n",
    "plt.title('Training & Validation Accuracy')\n",
    "plt.legend()\n",
    "plt.show()\n"
   ]
  },
  {
   "cell_type": "code",
   "execution_count": 75,
   "metadata": {
    "id": "an5QxcqZU7uA"
   },
   "outputs": [
    {
     "data": {
      "image/png": "[encoded data removed]",
      "text/plain": [
       "<Figure size 2880x720 with 1 Axes>"
      ]
     },
     "metadata": {},
     "output_type": "display_data"
    },
    {
     "data": {
      "image/png": "[encoded data removed]",
      "text/plain": [
       "<Figure size 2880x720 with 1 Axes>"
      ]
     },
     "metadata": {},
     "output_type": "display_data"
    }
   ],
   "source": [
    "# Plot loss curves.\n",
    "plot_dict(all_loss, use_xlabel='Epochs', use_ylabel='Value', use_linestyles=['-', '--'])\n",
    "\n",
    "# Plot accuracy curves.\n",
    "plot_dict(all_acc, use_xlabel='Epochs', use_ylabel='Value', use_linestyles=['-', '--'])"
   ]
  },
  {
   "cell_type": "markdown",
   "metadata": {
    "id": "TEHHJYt7PDPK"
   },
   "source": [
    "Save model"
   ]
  },
  {
   "cell_type": "code",
   "execution_count": 76,
   "metadata": {
    "colab": {
     "base_uri": "https://localhost:8080/"
    },
    "id": "V7YdEGJNUlMd",
    "outputId": "706c2421-b171-48ae-ef5a-ef720242a381"
   },
   "outputs": [
    {
     "data": {
      "text/plain": [
       "['textmodelGPT2.pkl']"
      ]
     },
     "execution_count": 76,
     "metadata": {},
     "output_type": "execute_result"
    }
   ],
   "source": [
    "import joblib\n",
    "joblib.dump(model_text, 'textmodelGPT2.pkl')"
   ]
  },
  {
   "cell_type": "markdown",
   "metadata": {
    "id": "Lj5UdcikPEyf"
   },
   "source": [
    "Load Model"
   ]
  },
  {
   "cell_type": "code",
   "execution_count": 34,
   "metadata": {
    "id": "Clidx03uU_HX"
   },
   "outputs": [],
   "source": [
    "# Load the model from the file\n",
    "text_from_joblib = joblib.load('textmodelGPT2.pkl')\n"
   ]
  },
  {
   "cell_type": "markdown",
   "metadata": {
    "id": "S4WXrSVDPNmY"
   },
   "source": [
    "Plot trainig and Validation Loss"
   ]
  },
  {
   "cell_type": "code",
   "execution_count": 77,
   "metadata": {
    "colab": {
     "base_uri": "https://localhost:8080/",
     "height": 299
    },
    "id": "7fN1BNSMRmEb",
    "outputId": "e4b5fee8-3167-4d92-f753-cfa6d0edd681"
   },
   "outputs": [
    {
     "data": {
      "image/png": "[encoded data removed]",
      "text/plain": [
       "<Figure size 640x480 with 1 Axes>"
      ]
     },
     "metadata": {},
     "output_type": "display_data"
    }
   ],
   "source": [
    "import matplotlib.pyplot as plt\n",
    "plt.plot(all_loss['train_loss'], 'g', label='Training loss')\n",
    "plt.plot(all_loss['val_loss'], 'b', label='validation loss')\n",
    "plt.title('Training and Validation loss')\n",
    "plt.xlabel('Epochs')\n",
    "plt.ylabel('Loss')\n",
    "plt.legend()\n",
    "plt.savefig('train_loss_val_loss_text_gpt2',dpi=400)\n",
    "plt.show()"
   ]
  },
  {
   "cell_type": "markdown",
   "metadata": {
    "id": "HGIW3pYPPPL_"
   },
   "source": [
    "Plot training and validation accuracy"
   ]
  },
  {
   "cell_type": "code",
   "execution_count": 78,
   "metadata": {
    "colab": {
     "base_uri": "https://localhost:8080/",
     "height": 299
    },
    "id": "dApAdbRaShJX",
    "outputId": "b65be8a5-9e73-49d7-9a7b-c13c8e8f3d31"
   },
   "outputs": [
    {
     "data": {
      "image/png": "[encoded data removed]",
      "text/plain": [
       "<Figure size 640x480 with 1 Axes>"
      ]
     },
     "metadata": {},
     "output_type": "display_data"
    }
   ],
   "source": [
    "import matplotlib.pyplot as plt\n",
    "plt.plot(all_acc['train_acc'], 'g', label='Training loss')\n",
    "plt.plot(all_acc['val_acc'], 'b', label='validation loss')\n",
    "plt.title('Training and Validation accuracy')\n",
    "plt.xlabel('Epochs')\n",
    "plt.ylabel('Loss')\n",
    "plt.legend()\n",
    "plt.savefig('train_acc_val_acc_text_gpt2',dpi=400)\n",
    "plt.show()"
   ]
  },
  {
   "cell_type": "markdown",
   "metadata": {
    "id": "qspZNCoVPS6V"
   },
   "source": [
    "Print classification report"
   ]
  },
  {
   "cell_type": "code",
   "execution_count": 79,
   "metadata": {
    "colab": {
     "base_uri": "https://localhost:8080/"
    },
    "id": "qzIbvdy9wzDm",
    "outputId": "4e2c0f5d-c6b4-4e72-d07f-9303cf6f3bed"
   },
   "outputs": [
    {
     "name": "stdout",
     "output_type": "stream",
     "text": [
      "                 precision    recall  f1-score   support\n",
      "\n",
      "not_informative       0.82      0.36      0.50       864\n",
      "    informative       0.70      0.95      0.81      1373\n",
      "\n",
      "       accuracy                           0.72      2237\n",
      "      macro avg       0.76      0.65      0.65      2237\n",
      "   weighted avg       0.75      0.72      0.69      2237\n",
      "\n"
     ]
    }
   ],
   "source": [
    "from sklearn.metrics import classification_report, confusion_matrix\n",
    "print(classification_report(test_labels, test_preds, target_names=['not_informative', 'informative']))\n"
   ]
  },
  {
   "cell_type": "markdown",
   "metadata": {
    "id": "6Hu5S3cmPWXD"
   },
   "source": [
    "Print and Plot confusion matrix"
   ]
  },
  {
   "cell_type": "code",
   "execution_count": 81,
   "metadata": {
    "colab": {
     "base_uri": "https://localhost:8080/"
    },
    "id": "nA8vINNpxY10",
    "outputId": "70332552-64cc-486a-90a1-5372f60fb43e"
   },
   "outputs": [
    {
     "name": "stdout",
     "output_type": "stream",
     "text": [
      "[[ 308  556]\n",
      " [  66 1307]]\n"
     ]
    }
   ],
   "source": [
    "print(confusion_matrix(test_labels, test_preds))\n"
   ]
  },
  {
   "cell_type": "code",
   "execution_count": 82,
   "metadata": {
    "id": "oes0Va5Xx1I5"
   },
   "outputs": [],
   "source": [
    "cf_matrix=confusion_matrix(test_labels, test_preds)"
   ]
  },
  {
   "cell_type": "code",
   "execution_count": 83,
   "metadata": {
    "colab": {
     "base_uri": "https://localhost:8080/",
     "height": 282
    },
    "id": "OhboP_GwyYgB",
    "outputId": "fe291383-dc81-40ff-9cf0-a27fa29a5d5c"
   },
   "outputs": [
    {
     "data": {
      "text/plain": [
       "<Axes: >"
      ]
     },
     "execution_count": 83,
     "metadata": {},
     "output_type": "execute_result"
    },
    {
     "data": {
      "image/png": "[encoded data removed]",
      "text/plain": [
       "<Figure size 640x480 with 2 Axes>"
      ]
     },
     "metadata": {},
     "output_type": "display_data"
    }
   ],
   "source": [
    "import seaborn as sns\n",
    "sns.heatmap(cf_matrix, annot=True)"
   ]
  },
  {
   "cell_type": "code",
   "execution_count": 84,
   "metadata": {
    "colab": {
     "base_uri": "https://localhost:8080/",
     "height": 265
    },
    "id": "_GQYxL2EycgV",
    "outputId": "59236b7e-ae44-4fee-977a-b90a8d26f356"
   },
   "outputs": [
    {
     "data": {
      "image/png": "[encoded data removed]",
      "text/plain": [
       "<Figure size 640x480 with 2 Axes>"
      ]
     },
     "metadata": {},
     "output_type": "display_data"
    }
   ],
   "source": [
    "figure_cm=sns.heatmap(cf_matrix, annot=True)"
   ]
  },
  {
   "cell_type": "code",
   "execution_count": 85,
   "metadata": {
    "id": "t7F4RdNFyoaD"
   },
   "outputs": [],
   "source": [
    "figure_cm.figure.savefig('confusionmatrix_text_2epoch.png')"
   ]
  },
  {
   "cell_type": "markdown",
   "metadata": {
    "id": "oB15EfmeQ-yv"
   },
   "source": [
    "Plot ROC curve"
   ]
  },
  {
   "cell_type": "code",
   "execution_count": 87,
   "metadata": {
    "colab": {
     "base_uri": "https://localhost:8080/",
     "height": 282
    },
    "id": "OmoofYcZzmpL",
    "outputId": "d732bb05-343d-42e6-88d0-cfda27f7f6c7"
   },
   "outputs": [
    {
     "data": {
      "image/png": "[encoded data removed]",
      "text/plain": [
       "<Figure size 640x480 with 1 Axes>"
      ]
     },
     "metadata": {},
     "output_type": "display_data"
    }
   ],
   "source": [
    "from sklearn.metrics import roc_curve\n",
    "\n",
    "# roc curve for models\n",
    "fpr1, tpr1, thresh1 = roc_curve(test_labels, test_preds, pos_label=1)\n",
    "plt.plot(fpr1, tpr1, linestyle='--',color='orange',label='AUC-ROC curve')\n",
    "plt.xlabel('False Positive Rate')\n",
    "# y label\n",
    "plt.ylabel('True Positive rate')\n",
    "plt.legend(loc='best')\n",
    "plt.savefig('ROC_text',dpi=300)\n",
    "plt.show();\n"
   ]
  },
  {
   "cell_type": "markdown",
   "metadata": {
    "id": "gGP4qdGGRB6n"
   },
   "source": [
    "Roc Curve"
   ]
  },
  {
   "cell_type": "code",
   "execution_count": 88,
   "metadata": {
    "colab": {
     "base_uri": "https://localhost:8080/"
    },
    "id": "01REJzBo0oRv",
    "outputId": "9585512c-fa4c-4622-840e-13c0a22cbb4b"
   },
   "outputs": [
    {
     "name": "stdout",
     "output_type": "stream",
     "text": [
      "0.6542057807990074\n"
     ]
    }
   ],
   "source": [
    "from sklearn.metrics import roc_auc_score\n",
    "auc_score1 = roc_auc_score(test_labels,test_preds)\n",
    "print( auc_score1)"
   ]
  },
  {
   "cell_type": "code",
   "execution_count": 89,
   "metadata": {
    "colab": {
     "base_uri": "https://localhost:8080/"
    },
    "id": "q1mLx7kdwUQs",
    "outputId": "fc94b337-56d2-4aca-dfc4-0ae20de22a8a"
   },
   "outputs": [
    {
     "data": {
      "text/plain": [
       "{'train_loss': [0.5325859618383064,\n",
       "  0.5354904769170158,\n",
       "  0.5354904769170158,\n",
       "  0.5354904769170158,\n",
       "  0.5354904769170158],\n",
       " 'val_loss': [0.5801543729645865,\n",
       "  0.5801543729645865,\n",
       "  0.5801543729645865,\n",
       "  0.5801543729645865,\n",
       "  0.5801543729645865]}"
      ]
     },
     "execution_count": 89,
     "metadata": {},
     "output_type": "execute_result"
    }
   ],
   "source": [
    "all_loss"
   ]
  },
  {
   "cell_type": "markdown",
   "metadata": {
    "id": "ve1rxjlpRuqO"
   },
   "source": [
    "Train and validation Loss"
   ]
  },
  {
   "cell_type": "code",
   "execution_count": 92,
   "metadata": {
    "colab": {
     "base_uri": "https://localhost:8080/",
     "height": 266
    },
    "id": "Y8Sr8r2Etuby",
    "outputId": "4e2870c3-d18f-44c7-a0a4-25b956852d08"
   },
   "outputs": [
    {
     "data": {
      "image/png": "[encoded data removed]",
      "text/plain": [
       "<Figure size 640x480 with 1 Axes>"
      ]
     },
     "metadata": {},
     "output_type": "display_data"
    }
   ],
   "source": [
    "history_df = pd.DataFrame({**all_loss, **all_acc})\n",
    "history_df.plot(title=\"Training and Validation Metrics\", marker='o')\n",
    "plt.xlabel(\"Epochs\")\n",
    "plt.ylabel(\"Value\")\n",
    "plt.grid(True)\n",
    "plt.show()\n"
   ]
  }
 ],
 "metadata": {
  "colab": {
   "name": "Text_model(GPT2).ipynb",
   "provenance": []
  },
  "kernelspec": {
   "display_name": "base",
   "language": "python",
   "name": "python3"
  },
  "language_info": {
   "codemirror_mode": {
    "name": "ipython",
    "version": 3
   },
   "file_extension": ".py",
   "mimetype": "text/x-python",
   "name": "python",
   "nbconvert_exporter": "python",
   "pygments_lexer": "ipython3",
   "version": "3.13.5"
  }
 },
 "nbformat": 4,
 "nbformat_minor": 0
}
